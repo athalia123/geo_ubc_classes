{
 "cells": [
  {
   "cell_type": "code",
   "execution_count": 4,
   "metadata": {},
   "outputs": [],
   "source": [
    "from shapely.geometry import Point\n",
    "import geopandas as gpd\n",
    "import pandas as pd\n",
    "from pyproj import CRS\n",
    "import matplotlib.pyplot as plt"
   ]
  },
  {
   "cell_type": "code",
   "execution_count": 6,
   "metadata": {},
   "outputs": [
    {
     "data": {
      "text/html": [
       "<div>\n",
       "<style scoped>\n",
       "    .dataframe tbody tr th:only-of-type {\n",
       "        vertical-align: middle;\n",
       "    }\n",
       "\n",
       "    .dataframe tbody tr th {\n",
       "        vertical-align: top;\n",
       "    }\n",
       "\n",
       "    .dataframe thead th {\n",
       "        text-align: right;\n",
       "    }\n",
       "</style>\n",
       "<table border=\"1\" class=\"dataframe\">\n",
       "  <thead>\n",
       "    <tr style=\"text-align: right;\">\n",
       "      <th></th>\n",
       "      <th>Course Listing</th>\n",
       "      <th>Credits</th>\n",
       "      <th>Grading Basis</th>\n",
       "      <th>Section</th>\n",
       "      <th>Instructional Format</th>\n",
       "      <th>Delivery Mode</th>\n",
       "      <th>Meeting Patterns</th>\n",
       "      <th>Registration Status</th>\n",
       "      <th>Days</th>\n",
       "      <th>Start</th>\n",
       "      <th>...</th>\n",
       "      <th>End Date</th>\n",
       "      <th>BLDG_UID</th>\n",
       "      <th>NAME</th>\n",
       "      <th>BLDG_CODE</th>\n",
       "      <th>SHORTNAME</th>\n",
       "      <th>POSTAL_CODE</th>\n",
       "      <th>PRIMARY_ADDRESS</th>\n",
       "      <th>geometry</th>\n",
       "      <th>lon</th>\n",
       "      <th>lat</th>\n",
       "    </tr>\n",
       "  </thead>\n",
       "  <tbody>\n",
       "    <tr>\n",
       "      <th>0</th>\n",
       "      <td>CPSC_V 110 - Computation, Programs, and Progra...</td>\n",
       "      <td>4</td>\n",
       "      <td>Graded</td>\n",
       "      <td>CPSC_V 110-203 - Computation, Programs, and Pr...</td>\n",
       "      <td>Lecture</td>\n",
       "      <td>Hybrid Learning</td>\n",
       "      <td>2025-01-07 - 2025-02-13 | Tue Thu | 9:30 a.m. ...</td>\n",
       "      <td>Registered</td>\n",
       "      <td>Tue,Thu</td>\n",
       "      <td>9:30</td>\n",
       "      <td>...</td>\n",
       "      <td>4/8/2025</td>\n",
       "      <td>VBL10099</td>\n",
       "      <td>Hector J. MacLeod Building</td>\n",
       "      <td>MCLD</td>\n",
       "      <td>MacLeod</td>\n",
       "      <td>V6T 1Z4</td>\n",
       "      <td>2356 Main Mall</td>\n",
       "      <td>POINT (-123.2494 49.26172)</td>\n",
       "      <td>-123.249401</td>\n",
       "      <td>49.261716</td>\n",
       "    </tr>\n",
       "    <tr>\n",
       "      <th>2</th>\n",
       "      <td>DSCI_V 100 - Introduction to Data Science</td>\n",
       "      <td>3</td>\n",
       "      <td>Graded</td>\n",
       "      <td>DSCI_V 100-100 - Introduction to Data Science</td>\n",
       "      <td>Lecture</td>\n",
       "      <td>In Person Learning</td>\n",
       "      <td>2025-01-07 - 2025-02-13 | Tue Thu | 4:30 p.m. ...</td>\n",
       "      <td>Registered</td>\n",
       "      <td>Tue,Thu</td>\n",
       "      <td>16:30</td>\n",
       "      <td>...</td>\n",
       "      <td>4/8/2025</td>\n",
       "      <td>VBL10204</td>\n",
       "      <td>Anthropology and Sociology Building</td>\n",
       "      <td>ANSO</td>\n",
       "      <td>ANSO</td>\n",
       "      <td>V6T 1Z1</td>\n",
       "      <td>6303 NW Marine Drive</td>\n",
       "      <td>POINT (-123.25769 49.27032)</td>\n",
       "      <td>-123.257691</td>\n",
       "      <td>49.270316</td>\n",
       "    </tr>\n",
       "  </tbody>\n",
       "</table>\n",
       "<p>2 rows × 25 columns</p>\n",
       "</div>"
      ],
      "text/plain": [
       "                                      Course Listing  Credits Grading Basis  \\\n",
       "0  CPSC_V 110 - Computation, Programs, and Progra...        4        Graded   \n",
       "2          DSCI_V 100 - Introduction to Data Science        3        Graded   \n",
       "\n",
       "                                             Section Instructional Format  \\\n",
       "0  CPSC_V 110-203 - Computation, Programs, and Pr...              Lecture   \n",
       "2      DSCI_V 100-100 - Introduction to Data Science              Lecture   \n",
       "\n",
       "        Delivery Mode                                   Meeting Patterns  \\\n",
       "0     Hybrid Learning  2025-01-07 - 2025-02-13 | Tue Thu | 9:30 a.m. ...   \n",
       "2  In Person Learning  2025-01-07 - 2025-02-13 | Tue Thu | 4:30 p.m. ...   \n",
       "\n",
       "  Registration Status     Days  Start  ...  End Date  BLDG_UID  \\\n",
       "0          Registered  Tue,Thu   9:30  ...  4/8/2025  VBL10099   \n",
       "2          Registered  Tue,Thu  16:30  ...  4/8/2025  VBL10204   \n",
       "\n",
       "                                  NAME BLDG_CODE SHORTNAME POSTAL_CODE  \\\n",
       "0           Hector J. MacLeod Building      MCLD   MacLeod     V6T 1Z4   \n",
       "2  Anthropology and Sociology Building      ANSO      ANSO     V6T 1Z1   \n",
       "\n",
       "        PRIMARY_ADDRESS                     geometry         lon        lat  \n",
       "0        2356 Main Mall   POINT (-123.2494 49.26172) -123.249401  49.261716  \n",
       "2  6303 NW Marine Drive  POINT (-123.25769 49.27032) -123.257691  49.270316  \n",
       "\n",
       "[2 rows x 25 columns]"
      ]
     },
     "execution_count": 6,
     "metadata": {},
     "output_type": "execute_result"
    }
   ],
   "source": [
    "gc = gpd.read_file(\"geo_files/geoclass1.geojson\")\n",
    "gc['lon'] = gc.geometry.x\n",
    "gc['lat'] = gc.geometry.y\n",
    "gc1 = gc[gc[\"Days\"].str.contains(\"Tue\")].sort_values(by=['End'])\n",
    "gc1"
   ]
  },
  {
   "cell_type": "code",
   "execution_count": 61,
   "metadata": {},
   "outputs": [
    {
     "name": "stdout",
     "output_type": "stream",
     "text": [
      "                                      Course Listing  Credits Grading Basis  \\\n",
      "0  CPSC_V 110 - Computation, Programs, and Progra...        4        Graded   \n",
      "\n",
      "                                             Section Instructional Format  \\\n",
      "0  CPSC_V 110-203 - Computation, Programs, and Pr...              Lecture   \n",
      "\n",
      "     Delivery Mode                                   Meeting Patterns  \\\n",
      "0  Hybrid Learning  2025-01-07 - 2025-02-13 | Tue Thu | 9:30 a.m. ...   \n",
      "\n",
      "  Registration Status     Days Start  ...  End Date  BLDG_UID  \\\n",
      "0          Registered  Tue,Thu  9:30  ...  4/8/2025  VBL10099   \n",
      "\n",
      "                         NAME BLDG_CODE SHORTNAME POSTAL_CODE PRIMARY_ADDRESS  \\\n",
      "0  Hector J. MacLeod Building      MCLD   MacLeod     V6T 1Z4  2356 Main Mall   \n",
      "\n",
      "                     geometry         lon        lat  \n",
      "0  POINT (-123.2494 49.26172) -123.249401  49.261716  \n",
      "\n",
      "[1 rows x 25 columns]\n"
     ]
    }
   ],
   "source": [
    "#gc2 = gc1[['geometry']]\n",
    "gc2 = gc1.drop(gc1.index[1])\n",
    "print(gc2)"
   ]
  },
  {
   "cell_type": "code",
   "execution_count": 22,
   "metadata": {},
   "outputs": [
    {
     "name": "stdout",
     "output_type": "stream",
     "text": [
      "-123.2494010978998 49.26171561984639\n",
      "<class 'numpy.float64'>\n",
      "                     geometry\n",
      "0  POINT (-123.2494 49.26172)\n"
     ]
    }
   ],
   "source": [
    "lon = gc2.iloc[0]['lon']\n",
    "lat = gc2.iloc[0]['lat']\n",
    "gc3 = gc2[['geometry']]\n",
    "print(lon, lat)\n",
    "print(type(lon))\n",
    "print(gc3)"
   ]
  },
  {
   "cell_type": "code",
   "execution_count": 23,
   "metadata": {},
   "outputs": [
    {
     "name": "stdout",
     "output_type": "stream",
     "text": [
      "      geometry\n",
      "0  POINT (0 0)\n",
      "\n",
      "CRS:\n",
      " +proj=aeqd +ellps=WGS84 +datum=WGS84 +lat_0=49.26171561984639 +lon_0=-123.2494010978998 +type=crs\n"
     ]
    }
   ],
   "source": [
    "# Define the projection using the coordinates of our Helsinki point (hki_lat, hki_lon) as the center point\n",
    "# The .srs here returns the text presentation of the projection\n",
    "aeqd = CRS(proj='aeqd', ellps='WGS84', datum='WGS84', lat_0=lat, lon_0=lon).srs\n",
    "\n",
    "# Reproject to aeqd projection using Proj4-string\n",
    "gc3 = gc3.to_crs(crs=aeqd)\n",
    "\n",
    "# Print the data\n",
    "print(gc3)\n",
    "\n",
    "# Print the crs\n",
    "print('\\nCRS:\\n', gc3.crs)"
   ]
  },
  {
   "cell_type": "code",
   "execution_count": 25,
   "metadata": {},
   "outputs": [
    {
     "data": {
      "text/html": [
       "<div>\n",
       "<style scoped>\n",
       "    .dataframe tbody tr th:only-of-type {\n",
       "        vertical-align: middle;\n",
       "    }\n",
       "\n",
       "    .dataframe tbody tr th {\n",
       "        vertical-align: top;\n",
       "    }\n",
       "\n",
       "    .dataframe thead th {\n",
       "        text-align: right;\n",
       "    }\n",
       "</style>\n",
       "<table border=\"1\" class=\"dataframe\">\n",
       "  <thead>\n",
       "    <tr style=\"text-align: right;\">\n",
       "      <th></th>\n",
       "      <th>geometry</th>\n",
       "    </tr>\n",
       "  </thead>\n",
       "  <tbody>\n",
       "    <tr>\n",
       "      <th>0</th>\n",
       "      <td>POINT (-123.2494 49.26172)</td>\n",
       "    </tr>\n",
       "    <tr>\n",
       "      <th>2</th>\n",
       "      <td>POINT (-123.25769 49.27032)</td>\n",
       "    </tr>\n",
       "  </tbody>\n",
       "</table>\n",
       "</div>"
      ],
      "text/plain": [
       "                      geometry\n",
       "0   POINT (-123.2494 49.26172)\n",
       "2  POINT (-123.25769 49.27032)"
      ]
     },
     "execution_count": 25,
     "metadata": {},
     "output_type": "execute_result"
    }
   ],
   "source": [
    "gc4 = gc1[['geometry']]\n",
    "gc4"
   ]
  },
  {
   "cell_type": "code",
   "execution_count": 27,
   "metadata": {},
   "outputs": [
    {
     "name": "stdout",
     "output_type": "stream",
     "text": [
      "                   geometry\n",
      "0               POINT (0 0)\n",
      "2  POINT (-603.314 956.479)\n"
     ]
    }
   ],
   "source": [
    "gc4 = gc4.to_crs(crs=aeqd)\n",
    "print(gc4)"
   ]
  },
  {
   "cell_type": "code",
   "execution_count": 52,
   "metadata": {},
   "outputs": [],
   "source": [
    "def calculate_distance(row, dest_geom, src_col='geometry', target_col='distance'):\n",
    "    # Calculate the distances (in meters)\n",
    "    dist = row[src_col].distance(dest_geom)\n",
    "\n",
    "    # Convert into kilometers\n",
    "    dist_km = dist / 1000\n",
    "\n",
    "    # Assign the distance to the original data\n",
    "    row[target_col] = dist_km\n",
    "    return row"
   ]
  },
  {
   "cell_type": "code",
   "execution_count": 31,
   "metadata": {},
   "outputs": [
    {
     "name": "stdout",
     "output_type": "stream",
     "text": [
      "POINT (0 0)\n"
     ]
    }
   ],
   "source": [
    "gc3_geom = gc3.loc[0, 'geometry']\n",
    "print(gc3_geom)"
   ]
  },
  {
   "cell_type": "code",
   "execution_count": 53,
   "metadata": {},
   "outputs": [
    {
     "name": "stdout",
     "output_type": "stream",
     "text": [
      "                   geometry         dist  distance\n",
      "0               POINT (0 0)     0.000000  0.000000\n",
      "2  POINT (-603.314 956.479)  1130.857946  1.130858\n"
     ]
    }
   ],
   "source": [
    "gc5 = calculate_distance(gc4, dest_geom=gc3_geom)\n",
    "print(gc5.head(10))"
   ]
  },
  {
   "cell_type": "code",
   "execution_count": 56,
   "metadata": {},
   "outputs": [
    {
     "name": "stdout",
     "output_type": "stream",
     "text": [
      "POINT (-603.3140480228349 956.4788831948636)\n",
      "POINT (0 0)\n"
     ]
    }
   ],
   "source": [
    "print(gc4.iloc[1]['geometry'])\n",
    "point = gc4.iloc[1]['geometry']\n",
    "print(gc4.iloc[0]['geometry'])"
   ]
  },
  {
   "cell_type": "code",
   "execution_count": 65,
   "metadata": {},
   "outputs": [
    {
     "data": {
      "text/html": [
       "<div>\n",
       "<style scoped>\n",
       "    .dataframe tbody tr th:only-of-type {\n",
       "        vertical-align: middle;\n",
       "    }\n",
       "\n",
       "    .dataframe tbody tr th {\n",
       "        vertical-align: top;\n",
       "    }\n",
       "\n",
       "    .dataframe thead th {\n",
       "        text-align: right;\n",
       "    }\n",
       "</style>\n",
       "<table border=\"1\" class=\"dataframe\">\n",
       "  <thead>\n",
       "    <tr style=\"text-align: right;\">\n",
       "      <th></th>\n",
       "      <th>geometry</th>\n",
       "      <th>dist</th>\n",
       "      <th>distance</th>\n",
       "      <th>new</th>\n",
       "    </tr>\n",
       "  </thead>\n",
       "  <tbody>\n",
       "    <tr>\n",
       "      <th>0</th>\n",
       "      <td>POINT (0 0)</td>\n",
       "      <td>0.000000</td>\n",
       "      <td>0.000000</td>\n",
       "      <td>3</td>\n",
       "    </tr>\n",
       "    <tr>\n",
       "      <th>2</th>\n",
       "      <td>POINT (-603.314 956.479)</td>\n",
       "      <td>1130.857946</td>\n",
       "      <td>1.130858</td>\n",
       "      <td>4</td>\n",
       "    </tr>\n",
       "  </tbody>\n",
       "</table>\n",
       "</div>"
      ],
      "text/plain": [
       "                   geometry         dist  distance  new\n",
       "0               POINT (0 0)     0.000000  0.000000    3\n",
       "2  POINT (-603.314 956.479)  1130.857946  1.130858    4"
      ]
     },
     "execution_count": 65,
     "metadata": {},
     "output_type": "execute_result"
    }
   ],
   "source": [
    "gc5 = gc4\n",
    "col = [3,4]\n",
    "gc5['new'] = col\n",
    "gc5"
   ]
  },
  {
   "cell_type": "markdown",
   "metadata": {},
   "source": [
    "# Trying out with Wednesday"
   ]
  },
  {
   "cell_type": "code",
   "execution_count": 7,
   "metadata": {},
   "outputs": [
    {
     "data": {
      "text/html": [
       "<div>\n",
       "<style scoped>\n",
       "    .dataframe tbody tr th:only-of-type {\n",
       "        vertical-align: middle;\n",
       "    }\n",
       "\n",
       "    .dataframe tbody tr th {\n",
       "        vertical-align: top;\n",
       "    }\n",
       "\n",
       "    .dataframe thead th {\n",
       "        text-align: right;\n",
       "    }\n",
       "</style>\n",
       "<table border=\"1\" class=\"dataframe\">\n",
       "  <thead>\n",
       "    <tr style=\"text-align: right;\">\n",
       "      <th></th>\n",
       "      <th>Course Listing</th>\n",
       "      <th>Credits</th>\n",
       "      <th>Grading Basis</th>\n",
       "      <th>Section</th>\n",
       "      <th>Instructional Format</th>\n",
       "      <th>Delivery Mode</th>\n",
       "      <th>Meeting Patterns</th>\n",
       "      <th>Registration Status</th>\n",
       "      <th>Days</th>\n",
       "      <th>Start</th>\n",
       "      <th>...</th>\n",
       "      <th>End Date</th>\n",
       "      <th>BLDG_UID</th>\n",
       "      <th>NAME</th>\n",
       "      <th>BLDG_CODE</th>\n",
       "      <th>SHORTNAME</th>\n",
       "      <th>POSTAL_CODE</th>\n",
       "      <th>PRIMARY_ADDRESS</th>\n",
       "      <th>geometry</th>\n",
       "      <th>lon</th>\n",
       "      <th>lat</th>\n",
       "    </tr>\n",
       "  </thead>\n",
       "  <tbody>\n",
       "    <tr>\n",
       "      <th>1</th>\n",
       "      <td>CPSC_V 110 - Computation, Programs, and Progra...</td>\n",
       "      <td>4</td>\n",
       "      <td>Graded</td>\n",
       "      <td>CPSC_V 110-L2A - Computation, Programs, and Pr...</td>\n",
       "      <td>Laboratory</td>\n",
       "      <td>In Person Learning</td>\n",
       "      <td>2025-01-08 - 2025-02-12 | Wed | 9:00 a.m. - 12...</td>\n",
       "      <td>Registered</td>\n",
       "      <td>Wed</td>\n",
       "      <td>9:00</td>\n",
       "      <td>...</td>\n",
       "      <td>4/8/2025</td>\n",
       "      <td>VBL10078</td>\n",
       "      <td>Institute for Computing Information and Cognit...</td>\n",
       "      <td>ICCS</td>\n",
       "      <td>ICICS/CS</td>\n",
       "      <td>V6T 1Z4</td>\n",
       "      <td>2366 Main Mall</td>\n",
       "      <td>POINT (-123.24883 49.26117)</td>\n",
       "      <td>-123.248832</td>\n",
       "      <td>49.261174</td>\n",
       "    </tr>\n",
       "    <tr>\n",
       "      <th>5</th>\n",
       "      <td>SCIE_V 113 - First-Year Seminar in Science</td>\n",
       "      <td>3</td>\n",
       "      <td>Graded</td>\n",
       "      <td>SCIE_V 113-15L - First-Year Seminar in Science</td>\n",
       "      <td>Seminar</td>\n",
       "      <td>In Person Learning</td>\n",
       "      <td>2025-01-06 - 2025-02-14 | Mon Wed Fri | 3:00 p...</td>\n",
       "      <td>Registered</td>\n",
       "      <td>Mon, Wed, Fri</td>\n",
       "      <td>15:00</td>\n",
       "      <td>...</td>\n",
       "      <td>4/8/2025</td>\n",
       "      <td>VBL10093</td>\n",
       "      <td>Leon and Thea Koerner University Centre</td>\n",
       "      <td>UCEN</td>\n",
       "      <td>University Centre</td>\n",
       "      <td>V6T 1Z2</td>\n",
       "      <td>6331 Crescent Road</td>\n",
       "      <td>POINT (-123.25723 49.2689)</td>\n",
       "      <td>-123.257225</td>\n",
       "      <td>49.268901</td>\n",
       "    </tr>\n",
       "    <tr>\n",
       "      <th>4</th>\n",
       "      <td>ECON_V 102 - Principles of Macroeconomics</td>\n",
       "      <td>3</td>\n",
       "      <td>Graded</td>\n",
       "      <td>ECON_V 102-004 - Principles of Macroeconomics</td>\n",
       "      <td>Lecture</td>\n",
       "      <td>In Person Learning</td>\n",
       "      <td>2025-01-06 - 2025-02-14 | Mon Wed Fri | 5:00 p...</td>\n",
       "      <td>Registered</td>\n",
       "      <td>Mon, Wed, Fri</td>\n",
       "      <td>17:00</td>\n",
       "      <td>...</td>\n",
       "      <td>4/8/2025</td>\n",
       "      <td>VBL10102</td>\n",
       "      <td>P. A. Woodward Instructional Resources Centre</td>\n",
       "      <td>IRC</td>\n",
       "      <td>IRC/Woodward</td>\n",
       "      <td>V6T 1Z3</td>\n",
       "      <td>2194 Health Sciences Mall</td>\n",
       "      <td>POINT (-123.24685 49.26482)</td>\n",
       "      <td>-123.246848</td>\n",
       "      <td>49.264822</td>\n",
       "    </tr>\n",
       "    <tr>\n",
       "      <th>3</th>\n",
       "      <td>ECON_V 102 - Principles of Macroeconomics</td>\n",
       "      <td>3</td>\n",
       "      <td>Graded</td>\n",
       "      <td>ECON_V 102-L4E - Principles of Macroeconomics</td>\n",
       "      <td>Discussion</td>\n",
       "      <td>In Person Learning</td>\n",
       "      <td>2025-01-08 - 2025-02-12 | Wed | 6:30 p.m. - 7:...</td>\n",
       "      <td>Registered</td>\n",
       "      <td>Wed</td>\n",
       "      <td>18:30</td>\n",
       "      <td>...</td>\n",
       "      <td>4/8/2025</td>\n",
       "      <td>VBL10323</td>\n",
       "      <td>Buchanan Building</td>\n",
       "      <td>BUCH</td>\n",
       "      <td>Buchanan</td>\n",
       "      <td>V6T 1Z1</td>\n",
       "      <td>1866 Main Mall</td>\n",
       "      <td>POINT (-123.25444 49.2687)</td>\n",
       "      <td>-123.254441</td>\n",
       "      <td>49.268701</td>\n",
       "    </tr>\n",
       "  </tbody>\n",
       "</table>\n",
       "<p>4 rows × 25 columns</p>\n",
       "</div>"
      ],
      "text/plain": [
       "                                      Course Listing  Credits Grading Basis  \\\n",
       "1  CPSC_V 110 - Computation, Programs, and Progra...        4        Graded   \n",
       "5         SCIE_V 113 - First-Year Seminar in Science        3        Graded   \n",
       "4          ECON_V 102 - Principles of Macroeconomics        3        Graded   \n",
       "3          ECON_V 102 - Principles of Macroeconomics        3        Graded   \n",
       "\n",
       "                                             Section Instructional Format  \\\n",
       "1  CPSC_V 110-L2A - Computation, Programs, and Pr...           Laboratory   \n",
       "5     SCIE_V 113-15L - First-Year Seminar in Science              Seminar   \n",
       "4      ECON_V 102-004 - Principles of Macroeconomics              Lecture   \n",
       "3      ECON_V 102-L4E - Principles of Macroeconomics           Discussion   \n",
       "\n",
       "        Delivery Mode                                   Meeting Patterns  \\\n",
       "1  In Person Learning  2025-01-08 - 2025-02-12 | Wed | 9:00 a.m. - 12...   \n",
       "5  In Person Learning  2025-01-06 - 2025-02-14 | Mon Wed Fri | 3:00 p...   \n",
       "4  In Person Learning  2025-01-06 - 2025-02-14 | Mon Wed Fri | 5:00 p...   \n",
       "3  In Person Learning  2025-01-08 - 2025-02-12 | Wed | 6:30 p.m. - 7:...   \n",
       "\n",
       "  Registration Status           Days  Start  ...  End Date  BLDG_UID  \\\n",
       "1          Registered            Wed   9:00  ...  4/8/2025  VBL10078   \n",
       "5          Registered  Mon, Wed, Fri  15:00  ...  4/8/2025  VBL10093   \n",
       "4          Registered  Mon, Wed, Fri  17:00  ...  4/8/2025  VBL10102   \n",
       "3          Registered            Wed  18:30  ...  4/8/2025  VBL10323   \n",
       "\n",
       "                                                NAME BLDG_CODE  \\\n",
       "1  Institute for Computing Information and Cognit...      ICCS   \n",
       "5            Leon and Thea Koerner University Centre      UCEN   \n",
       "4      P. A. Woodward Instructional Resources Centre       IRC   \n",
       "3                                  Buchanan Building      BUCH   \n",
       "\n",
       "           SHORTNAME POSTAL_CODE            PRIMARY_ADDRESS  \\\n",
       "1           ICICS/CS     V6T 1Z4             2366 Main Mall   \n",
       "5  University Centre     V6T 1Z2         6331 Crescent Road   \n",
       "4       IRC/Woodward     V6T 1Z3  2194 Health Sciences Mall   \n",
       "3           Buchanan     V6T 1Z1             1866 Main Mall   \n",
       "\n",
       "                      geometry         lon        lat  \n",
       "1  POINT (-123.24883 49.26117) -123.248832  49.261174  \n",
       "5   POINT (-123.25723 49.2689) -123.257225  49.268901  \n",
       "4  POINT (-123.24685 49.26482) -123.246848  49.264822  \n",
       "3   POINT (-123.25444 49.2687) -123.254441  49.268701  \n",
       "\n",
       "[4 rows x 25 columns]"
      ]
     },
     "execution_count": 7,
     "metadata": {},
     "output_type": "execute_result"
    }
   ],
   "source": [
    "g1 = gc[gc[\"Days\"].str.contains(\"Wed\")].sort_values(by=['End'])\n",
    "g1"
   ]
  },
  {
   "cell_type": "code",
   "execution_count": 20,
   "metadata": {},
   "outputs": [
    {
     "data": {
      "text/html": [
       "<div>\n",
       "<style scoped>\n",
       "    .dataframe tbody tr th:only-of-type {\n",
       "        vertical-align: middle;\n",
       "    }\n",
       "\n",
       "    .dataframe tbody tr th {\n",
       "        vertical-align: top;\n",
       "    }\n",
       "\n",
       "    .dataframe thead th {\n",
       "        text-align: right;\n",
       "    }\n",
       "</style>\n",
       "<table border=\"1\" class=\"dataframe\">\n",
       "  <thead>\n",
       "    <tr style=\"text-align: right;\">\n",
       "      <th></th>\n",
       "      <th>Course Listing</th>\n",
       "      <th>Credits</th>\n",
       "      <th>Grading Basis</th>\n",
       "      <th>Section</th>\n",
       "      <th>Instructional Format</th>\n",
       "      <th>Delivery Mode</th>\n",
       "      <th>Meeting Patterns</th>\n",
       "      <th>Registration Status</th>\n",
       "      <th>Days</th>\n",
       "      <th>Start</th>\n",
       "      <th>...</th>\n",
       "      <th>End Date</th>\n",
       "      <th>BLDG_UID</th>\n",
       "      <th>NAME</th>\n",
       "      <th>BLDG_CODE</th>\n",
       "      <th>SHORTNAME</th>\n",
       "      <th>POSTAL_CODE</th>\n",
       "      <th>PRIMARY_ADDRESS</th>\n",
       "      <th>geometry</th>\n",
       "      <th>lon</th>\n",
       "      <th>lat</th>\n",
       "    </tr>\n",
       "  </thead>\n",
       "  <tbody>\n",
       "    <tr>\n",
       "      <th>5</th>\n",
       "      <td>SCIE_V 113 - First-Year Seminar in Science</td>\n",
       "      <td>3</td>\n",
       "      <td>Graded</td>\n",
       "      <td>SCIE_V 113-15L - First-Year Seminar in Science</td>\n",
       "      <td>Seminar</td>\n",
       "      <td>In Person Learning</td>\n",
       "      <td>2025-01-06 - 2025-02-14 | Mon Wed Fri | 3:00 p...</td>\n",
       "      <td>Registered</td>\n",
       "      <td>Mon, Wed, Fri</td>\n",
       "      <td>15:00</td>\n",
       "      <td>...</td>\n",
       "      <td>4/8/2025</td>\n",
       "      <td>VBL10093</td>\n",
       "      <td>Leon and Thea Koerner University Centre</td>\n",
       "      <td>UCEN</td>\n",
       "      <td>University Centre</td>\n",
       "      <td>V6T 1Z2</td>\n",
       "      <td>6331 Crescent Road</td>\n",
       "      <td>POINT (-123.25723 49.2689)</td>\n",
       "      <td>-123.257225</td>\n",
       "      <td>49.268901</td>\n",
       "    </tr>\n",
       "  </tbody>\n",
       "</table>\n",
       "<p>1 rows × 25 columns</p>\n",
       "</div>"
      ],
      "text/plain": [
       "                               Course Listing  Credits Grading Basis  \\\n",
       "5  SCIE_V 113 - First-Year Seminar in Science        3        Graded   \n",
       "\n",
       "                                          Section Instructional Format  \\\n",
       "5  SCIE_V 113-15L - First-Year Seminar in Science              Seminar   \n",
       "\n",
       "        Delivery Mode                                   Meeting Patterns  \\\n",
       "5  In Person Learning  2025-01-06 - 2025-02-14 | Mon Wed Fri | 3:00 p...   \n",
       "\n",
       "  Registration Status           Days  Start  ...  End Date  BLDG_UID  \\\n",
       "5          Registered  Mon, Wed, Fri  15:00  ...  4/8/2025  VBL10093   \n",
       "\n",
       "                                      NAME BLDG_CODE          SHORTNAME  \\\n",
       "5  Leon and Thea Koerner University Centre      UCEN  University Centre   \n",
       "\n",
       "  POSTAL_CODE     PRIMARY_ADDRESS                    geometry         lon  \\\n",
       "5     V6T 1Z2  6331 Crescent Road  POINT (-123.25723 49.2689) -123.257225   \n",
       "\n",
       "         lat  \n",
       "5  49.268901  \n",
       "\n",
       "[1 rows x 25 columns]"
      ]
     },
     "execution_count": 20,
     "metadata": {},
     "output_type": "execute_result"
    }
   ],
   "source": [
    "b = g1.iloc[[1]]\n",
    "b"
   ]
  },
  {
   "cell_type": "code",
   "execution_count": 9,
   "metadata": {},
   "outputs": [
    {
     "data": {
      "text/html": [
       "<div>\n",
       "<style scoped>\n",
       "    .dataframe tbody tr th:only-of-type {\n",
       "        vertical-align: middle;\n",
       "    }\n",
       "\n",
       "    .dataframe tbody tr th {\n",
       "        vertical-align: top;\n",
       "    }\n",
       "\n",
       "    .dataframe thead th {\n",
       "        text-align: right;\n",
       "    }\n",
       "</style>\n",
       "<table border=\"1\" class=\"dataframe\">\n",
       "  <thead>\n",
       "    <tr style=\"text-align: right;\">\n",
       "      <th></th>\n",
       "      <th>geometry</th>\n",
       "      <th>lon</th>\n",
       "      <th>lat</th>\n",
       "    </tr>\n",
       "  </thead>\n",
       "  <tbody>\n",
       "    <tr>\n",
       "      <th>1</th>\n",
       "      <td>POINT (-123.24883 49.26117)</td>\n",
       "      <td>-123.248832</td>\n",
       "      <td>49.261174</td>\n",
       "    </tr>\n",
       "  </tbody>\n",
       "</table>\n",
       "</div>"
      ],
      "text/plain": [
       "                      geometry         lon        lat\n",
       "1  POINT (-123.24883 49.26117) -123.248832  49.261174"
      ]
     },
     "execution_count": 9,
     "metadata": {},
     "output_type": "execute_result"
    }
   ],
   "source": [
    "g2 = g1.iloc[[0]][['geometry', 'lon', 'lat']]\n",
    "g2"
   ]
  },
  {
   "cell_type": "code",
   "execution_count": 50,
   "metadata": {},
   "outputs": [],
   "source": [
    "def calculate_distance(row, dest_geom, src_col='geometry'):\n",
    "    # Calculate the distances (in meters)\n",
    "    dist = row[src_col].distance(dest_geom)\n",
    "\n",
    "    # Convert into kilometers\n",
    "    dist_km = dist / 1000\n",
    "\n",
    "    # Assign the distance to the original data\n",
    "    #row[target_col] = dist_km\n",
    "    return dist_km"
   ]
  },
  {
   "cell_type": "code",
   "execution_count": 27,
   "metadata": {},
   "outputs": [
    {
     "name": "stdout",
     "output_type": "stream",
     "text": [
      "<class 'pandas.core.series.Series'>\n",
      "5    1.054347\n",
      "dtype: float64\n"
     ]
    },
    {
     "data": {
      "text/plain": [
       "np.float64(1.0543474524261167)"
      ]
     },
     "execution_count": 27,
     "metadata": {},
     "output_type": "execute_result"
    }
   ],
   "source": [
    "g2 = g1.iloc[[0]][['geometry', 'lon', 'lat']]\n",
    "ln = g2.iloc[0]['lon']\n",
    "lt = g2.iloc[0]['lat']\n",
    "g3 = g2[['geometry']]\n",
    "\n",
    "aeqd = CRS(proj='aeqd', ellps='WGS84', datum='WGS84', lat_0=lt, lon_0=ln).srs\n",
    "\n",
    "# Reproject to aeqd projection using Proj4-string\n",
    "g3 = g3.to_crs(crs=aeqd)\n",
    "\n",
    "g4 = g1.iloc[[1]][['geometry']].to_crs(crs=aeqd)\n",
    "\n",
    "g3_geom = g3['geometry'].iloc[0]\n",
    "\n",
    "g5 = calculate_distance(g4, dest_geom=g3_geom)\n",
    "\n",
    "#print(type(g5))\n",
    "#print(g5)\n",
    "g5.iloc[0]\n",
    "\n"
   ]
  },
  {
   "cell_type": "code",
   "execution_count": 54,
   "metadata": {},
   "outputs": [
    {
     "data": {
      "text/html": [
       "<div>\n",
       "<style scoped>\n",
       "    .dataframe tbody tr th:only-of-type {\n",
       "        vertical-align: middle;\n",
       "    }\n",
       "\n",
       "    .dataframe tbody tr th {\n",
       "        vertical-align: top;\n",
       "    }\n",
       "\n",
       "    .dataframe thead th {\n",
       "        text-align: right;\n",
       "    }\n",
       "</style>\n",
       "<table border=\"1\" class=\"dataframe\">\n",
       "  <thead>\n",
       "    <tr style=\"text-align: right;\">\n",
       "      <th></th>\n",
       "      <th>Course Listing</th>\n",
       "      <th>Credits</th>\n",
       "      <th>Grading Basis</th>\n",
       "      <th>Section</th>\n",
       "      <th>Instructional Format</th>\n",
       "      <th>Delivery Mode</th>\n",
       "      <th>Meeting Patterns</th>\n",
       "      <th>Registration Status</th>\n",
       "      <th>Days</th>\n",
       "      <th>Start</th>\n",
       "      <th>...</th>\n",
       "      <th>BLDG_UID</th>\n",
       "      <th>NAME</th>\n",
       "      <th>BLDG_CODE</th>\n",
       "      <th>SHORTNAME</th>\n",
       "      <th>POSTAL_CODE</th>\n",
       "      <th>PRIMARY_ADDRESS</th>\n",
       "      <th>geometry</th>\n",
       "      <th>lon</th>\n",
       "      <th>lat</th>\n",
       "      <th>dist_to_next</th>\n",
       "    </tr>\n",
       "  </thead>\n",
       "  <tbody>\n",
       "    <tr>\n",
       "      <th>1</th>\n",
       "      <td>CPSC_V 110 - Computation, Programs, and Progra...</td>\n",
       "      <td>4</td>\n",
       "      <td>Graded</td>\n",
       "      <td>CPSC_V 110-L2A - Computation, Programs, and Pr...</td>\n",
       "      <td>Laboratory</td>\n",
       "      <td>In Person Learning</td>\n",
       "      <td>2025-01-08 - 2025-02-12 | Wed | 9:00 a.m. - 12...</td>\n",
       "      <td>Registered</td>\n",
       "      <td>Wed</td>\n",
       "      <td>9:00</td>\n",
       "      <td>...</td>\n",
       "      <td>VBL10078</td>\n",
       "      <td>Institute for Computing Information and Cognit...</td>\n",
       "      <td>ICCS</td>\n",
       "      <td>ICICS/CS</td>\n",
       "      <td>V6T 1Z4</td>\n",
       "      <td>2366 Main Mall</td>\n",
       "      <td>POINT (-123.24883 49.26117)</td>\n",
       "      <td>-123.248832</td>\n",
       "      <td>49.261174</td>\n",
       "      <td>1.054347</td>\n",
       "    </tr>\n",
       "    <tr>\n",
       "      <th>5</th>\n",
       "      <td>SCIE_V 113 - First-Year Seminar in Science</td>\n",
       "      <td>3</td>\n",
       "      <td>Graded</td>\n",
       "      <td>SCIE_V 113-15L - First-Year Seminar in Science</td>\n",
       "      <td>Seminar</td>\n",
       "      <td>In Person Learning</td>\n",
       "      <td>2025-01-06 - 2025-02-14 | Mon Wed Fri | 3:00 p...</td>\n",
       "      <td>Registered</td>\n",
       "      <td>Mon, Wed, Fri</td>\n",
       "      <td>15:00</td>\n",
       "      <td>...</td>\n",
       "      <td>VBL10093</td>\n",
       "      <td>Leon and Thea Koerner University Centre</td>\n",
       "      <td>UCEN</td>\n",
       "      <td>University Centre</td>\n",
       "      <td>V6T 1Z2</td>\n",
       "      <td>6331 Crescent Road</td>\n",
       "      <td>POINT (-123.25723 49.2689)</td>\n",
       "      <td>-123.257225</td>\n",
       "      <td>49.268901</td>\n",
       "      <td>0.881026</td>\n",
       "    </tr>\n",
       "    <tr>\n",
       "      <th>4</th>\n",
       "      <td>ECON_V 102 - Principles of Macroeconomics</td>\n",
       "      <td>3</td>\n",
       "      <td>Graded</td>\n",
       "      <td>ECON_V 102-004 - Principles of Macroeconomics</td>\n",
       "      <td>Lecture</td>\n",
       "      <td>In Person Learning</td>\n",
       "      <td>2025-01-06 - 2025-02-14 | Mon Wed Fri | 5:00 p...</td>\n",
       "      <td>Registered</td>\n",
       "      <td>Mon, Wed, Fri</td>\n",
       "      <td>17:00</td>\n",
       "      <td>...</td>\n",
       "      <td>VBL10102</td>\n",
       "      <td>P. A. Woodward Instructional Resources Centre</td>\n",
       "      <td>IRC</td>\n",
       "      <td>IRC/Woodward</td>\n",
       "      <td>V6T 1Z3</td>\n",
       "      <td>2194 Health Sciences Mall</td>\n",
       "      <td>POINT (-123.24685 49.26482)</td>\n",
       "      <td>-123.246848</td>\n",
       "      <td>49.264822</td>\n",
       "      <td>0.701027</td>\n",
       "    </tr>\n",
       "    <tr>\n",
       "      <th>3</th>\n",
       "      <td>ECON_V 102 - Principles of Macroeconomics</td>\n",
       "      <td>3</td>\n",
       "      <td>Graded</td>\n",
       "      <td>ECON_V 102-L4E - Principles of Macroeconomics</td>\n",
       "      <td>Discussion</td>\n",
       "      <td>In Person Learning</td>\n",
       "      <td>2025-01-08 - 2025-02-12 | Wed | 6:30 p.m. - 7:...</td>\n",
       "      <td>Registered</td>\n",
       "      <td>Wed</td>\n",
       "      <td>18:30</td>\n",
       "      <td>...</td>\n",
       "      <td>VBL10323</td>\n",
       "      <td>Buchanan Building</td>\n",
       "      <td>BUCH</td>\n",
       "      <td>Buchanan</td>\n",
       "      <td>V6T 1Z1</td>\n",
       "      <td>1866 Main Mall</td>\n",
       "      <td>POINT (-123.25444 49.2687)</td>\n",
       "      <td>-123.254441</td>\n",
       "      <td>49.268701</td>\n",
       "      <td>None</td>\n",
       "    </tr>\n",
       "  </tbody>\n",
       "</table>\n",
       "<p>4 rows × 26 columns</p>\n",
       "</div>"
      ],
      "text/plain": [
       "                                      Course Listing  Credits Grading Basis  \\\n",
       "1  CPSC_V 110 - Computation, Programs, and Progra...        4        Graded   \n",
       "5         SCIE_V 113 - First-Year Seminar in Science        3        Graded   \n",
       "4          ECON_V 102 - Principles of Macroeconomics        3        Graded   \n",
       "3          ECON_V 102 - Principles of Macroeconomics        3        Graded   \n",
       "\n",
       "                                             Section Instructional Format  \\\n",
       "1  CPSC_V 110-L2A - Computation, Programs, and Pr...           Laboratory   \n",
       "5     SCIE_V 113-15L - First-Year Seminar in Science              Seminar   \n",
       "4      ECON_V 102-004 - Principles of Macroeconomics              Lecture   \n",
       "3      ECON_V 102-L4E - Principles of Macroeconomics           Discussion   \n",
       "\n",
       "        Delivery Mode                                   Meeting Patterns  \\\n",
       "1  In Person Learning  2025-01-08 - 2025-02-12 | Wed | 9:00 a.m. - 12...   \n",
       "5  In Person Learning  2025-01-06 - 2025-02-14 | Mon Wed Fri | 3:00 p...   \n",
       "4  In Person Learning  2025-01-06 - 2025-02-14 | Mon Wed Fri | 5:00 p...   \n",
       "3  In Person Learning  2025-01-08 - 2025-02-12 | Wed | 6:30 p.m. - 7:...   \n",
       "\n",
       "  Registration Status           Days  Start  ...  BLDG_UID  \\\n",
       "1          Registered            Wed   9:00  ...  VBL10078   \n",
       "5          Registered  Mon, Wed, Fri  15:00  ...  VBL10093   \n",
       "4          Registered  Mon, Wed, Fri  17:00  ...  VBL10102   \n",
       "3          Registered            Wed  18:30  ...  VBL10323   \n",
       "\n",
       "                                                NAME BLDG_CODE  \\\n",
       "1  Institute for Computing Information and Cognit...      ICCS   \n",
       "5            Leon and Thea Koerner University Centre      UCEN   \n",
       "4      P. A. Woodward Instructional Resources Centre       IRC   \n",
       "3                                  Buchanan Building      BUCH   \n",
       "\n",
       "           SHORTNAME POSTAL_CODE            PRIMARY_ADDRESS  \\\n",
       "1           ICICS/CS     V6T 1Z4             2366 Main Mall   \n",
       "5  University Centre     V6T 1Z2         6331 Crescent Road   \n",
       "4       IRC/Woodward     V6T 1Z3  2194 Health Sciences Mall   \n",
       "3           Buchanan     V6T 1Z1             1866 Main Mall   \n",
       "\n",
       "                      geometry         lon        lat dist_to_next  \n",
       "1  POINT (-123.24883 49.26117) -123.248832  49.261174     1.054347  \n",
       "5   POINT (-123.25723 49.2689) -123.257225  49.268901     0.881026  \n",
       "4  POINT (-123.24685 49.26482) -123.246848  49.264822     0.701027  \n",
       "3   POINT (-123.25444 49.2687) -123.254441  49.268701         None  \n",
       "\n",
       "[4 rows x 26 columns]"
      ]
     },
     "execution_count": 54,
     "metadata": {},
     "output_type": "execute_result"
    }
   ],
   "source": [
    "gx = g1\n",
    "gx['dist_to_next'] = distances\n",
    "gx"
   ]
  },
  {
   "cell_type": "code",
   "execution_count": 53,
   "metadata": {},
   "outputs": [
    {
     "name": "stdout",
     "output_type": "stream",
     "text": [
      "[np.float64(1.0543474524261167), np.float64(0.8810255475689519), np.float64(0.701027320453218), 'None']\n"
     ]
    }
   ],
   "source": [
    "distances = []\n",
    "for i in range(0,len(g1)-1):    \n",
    "    g2 = g1.iloc[[i]][['geometry', 'lon', 'lat']]\n",
    "    ln = g2.iloc[0]['lon']\n",
    "    lt = g2.iloc[0]['lat']\n",
    "    g3 = g2[['geometry']]\n",
    "\n",
    "    aeqd = CRS(proj='aeqd', ellps='WGS84', datum='WGS84', lat_0=lt, lon_0=ln).srs\n",
    "\n",
    "    # Reproject to aeqd projection using Proj4-string\n",
    "    g3 = g3.to_crs(crs=aeqd)\n",
    "\n",
    "    g4 = g1.iloc[[i+1]][['geometry']].to_crs(crs=aeqd)\n",
    "\n",
    "    g3_geom = g3['geometry'].iloc[0]\n",
    "\n",
    "    g5 = calculate_distance(g4, dest_geom=g3_geom)\n",
    "\n",
    "    #print(type(g5))\n",
    "    #print(g5)\n",
    "    distances.append(g5.iloc[0])\n",
    "\n",
    "distances.append('None')\n",
    "print(distances)"
   ]
  },
  {
   "cell_type": "code",
   "execution_count": null,
   "metadata": {},
   "outputs": [],
   "source": []
  },
  {
   "cell_type": "code",
   "execution_count": 30,
   "metadata": {},
   "outputs": [
    {
     "name": "stdout",
     "output_type": "stream",
     "text": [
      "1.0543474524261167\n",
      "list:  [np.float64(1.0543474524261167)]\n"
     ]
    }
   ],
   "source": [
    "i = g5.iloc[0]\n",
    "print(i)\n",
    "l = []\n",
    "l.append(i)\n",
    "print(\"list: \", l)"
   ]
  },
  {
   "cell_type": "code",
   "execution_count": 35,
   "metadata": {},
   "outputs": [
    {
     "name": "stdout",
     "output_type": "stream",
     "text": [
      "                      geometry         lon        lat      dist\n",
      "1  POINT (-123.24883 49.26117) -123.248832  49.261174  1.054347\n",
      "<class 'geopandas.geodataframe.GeoDataFrame'>\n"
     ]
    },
    {
     "data": {
      "text/plain": [
       "geometry    geometry\n",
       "lon          float64\n",
       "lat          float64\n",
       "dist         float64\n",
       "dtype: object"
      ]
     },
     "execution_count": 35,
     "metadata": {},
     "output_type": "execute_result"
    }
   ],
   "source": [
    "b = g2\n",
    "b['dist'] = l\n",
    "b\n",
    "print(b)\n",
    "print(type(b))\n",
    "b.dtypes"
   ]
  },
  {
   "cell_type": "code",
   "execution_count": 39,
   "metadata": {},
   "outputs": [
    {
     "name": "stdout",
     "output_type": "stream",
     "text": [
      "0\n",
      "1\n",
      "2\n"
     ]
    }
   ],
   "source": [
    "for i in range(0,len(g1)-1):\n",
    "    print(i)"
   ]
  }
 ],
 "metadata": {
  "kernelspec": {
   "display_name": "Python 3",
   "language": "python",
   "name": "python3"
  },
  "language_info": {
   "codemirror_mode": {
    "name": "ipython",
    "version": 3
   },
   "file_extension": ".py",
   "mimetype": "text/x-python",
   "name": "python",
   "nbconvert_exporter": "python",
   "pygments_lexer": "ipython3",
   "version": "3.10.13"
  }
 },
 "nbformat": 4,
 "nbformat_minor": 2
}
